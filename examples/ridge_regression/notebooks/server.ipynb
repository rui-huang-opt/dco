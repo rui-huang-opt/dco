{
 "cells": [
  {
   "cell_type": "code",
   "execution_count": 1,
   "id": "4c105f49",
   "metadata": {},
   "outputs": [
    {
     "name": "stderr",
     "output_type": "stream",
     "text": [
      "INFO:topolink.Graph:Server running on 192.168.2.7:5555\n",
      "INFO:topolink.Graph:Node 3 registered with address 192.168.2.7:44759\n",
      "INFO:topolink.Graph:Node 1 registered with address 192.168.2.7:46523\n",
      "INFO:topolink.Graph:Node 4 registered with address 192.168.2.7:45293\n",
      "INFO:topolink.Graph:Node 2 registered with address 192.168.2.7:46443\n",
      "INFO:topolink.Graph:All nodes registered. Server is now ready.\n",
      "INFO:topolink.Graph:Sent neighbor information to all nodes.\n",
      "INFO:topolink.Graph:Node 1 has unregistered.\n",
      "INFO:topolink.Graph:Node 4 has unregistered.\n",
      "INFO:topolink.Graph:Node 3 has unregistered.\n",
      "INFO:topolink.Graph:Node 2 has unregistered.\n"
     ]
    }
   ],
   "source": [
    "import numpy as np\n",
    "from logging import basicConfig, INFO\n",
    "from topolink import Graph\n",
    "\n",
    "basicConfig(level=INFO)\n",
    "\n",
    "L = np.array([[2, -1, 0, -1], [-1, 2, -1, 0], [0, -1, 2, -1], [-1, 0, -1, 2]])\n",
    "W = np.eye(4) - L * 0.2\n",
    "\n",
    "graph = Graph.from_mixing_matrix(W, address=\"localhost:5555\")\n",
    "graph.deploy()"
   ]
  }
 ],
 "metadata": {
  "kernelspec": {
   "display_name": ".venv",
   "language": "python",
   "name": "python3"
  },
  "language_info": {
   "codemirror_mode": {
    "name": "ipython",
    "version": 3
   },
   "file_extension": ".py",
   "mimetype": "text/x-python",
   "name": "python",
   "nbconvert_exporter": "python",
   "pygments_lexer": "ipython3",
   "version": "3.10.12"
  }
 },
 "nbformat": 4,
 "nbformat_minor": 5
}
