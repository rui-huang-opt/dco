{
 "cells": [
  {
   "cell_type": "code",
   "execution_count": 1,
   "id": "4c105f49",
   "metadata": {},
   "outputs": [
    {
     "name": "stderr",
     "output_type": "stream",
     "text": [
      "INFO:topolink.Graph:Server running on 172.31.21.120:5555\n",
      "INFO:topolink.Graph:Node 3 registered with address 172.31.21.120:46027\n",
      "INFO:topolink.Graph:Node 2 registered with address 172.31.21.120:42137\n",
      "INFO:topolink.Graph:Node 4 registered with address 172.31.21.120:33559\n",
      "INFO:topolink.Graph:Node 1 registered with address 172.31.21.120:41703\n",
      "INFO:topolink.Graph:All nodes registered. Server is now ready.\n",
      "INFO:topolink.Graph:Sent neighbor information to all nodes.\n",
      "INFO:topolink.Graph:Node 2 has unregistered.\n",
      "INFO:topolink.Graph:Node 4 has unregistered.\n",
      "INFO:topolink.Graph:Node 3 has unregistered.\n",
      "INFO:topolink.Graph:Node 1 has unregistered.\n"
     ]
    }
   ],
   "source": [
    "from logging import basicConfig, INFO\n",
    "from topolink import Graph\n",
    "\n",
    "basicConfig(level=INFO)\n",
    "\n",
    "nodes = [\"1\", \"2\", \"3\", \"4\"]\n",
    "edges = [(\"1\", \"2\"), (\"2\", \"3\"), (\"3\", \"4\"), (\"4\", \"1\")]\n",
    "\n",
    "graph = Graph(nodes, edges, address=\"localhost:5555\")\n",
    "graph.deploy()"
   ]
  }
 ],
 "metadata": {
  "kernelspec": {
   "display_name": ".venv",
   "language": "python",
   "name": "python3"
  },
  "language_info": {
   "codemirror_mode": {
    "name": "ipython",
    "version": 3
   },
   "file_extension": ".py",
   "mimetype": "text/x-python",
   "name": "python",
   "nbconvert_exporter": "python",
   "pygments_lexer": "ipython3",
   "version": "3.10.12"
  }
 },
 "nbformat": 4,
 "nbformat_minor": 5
}
